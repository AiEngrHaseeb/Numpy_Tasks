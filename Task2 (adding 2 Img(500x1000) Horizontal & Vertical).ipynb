{
 "cells": [
  {
   "cell_type": "code",
   "execution_count": 1,
   "id": "pressed-appraisal",
   "metadata": {},
   "outputs": [],
   "source": [
    "# Import required modules \n",
    "from PIL import Image \n",
    "import numpy as np \n",
    "  \n",
    "# Load image \n",
    "image = Image.open('1.jpg')\n",
    "image1 = Image.open('2.jpg') \n",
    "  \n",
    "# Convert image to array \n",
    "image_arr = np.array(image) \n",
    "image_arr1 = np.array(image1) \n",
    "\n",
    "# Crop image \n",
    "image_arr = image_arr[:500, :1000] \n",
    "image_arr1 = image_arr1[:500, :1000] \n",
    "h_img = np.hstack((image_arr,image_arr1))\n",
    "v_img = np.vstack((image_arr,image_arr1))\n",
    "# Convert array to image \n",
    "image = Image.fromarray(h_img) \n",
    "image1 = Image.fromarray(v_img) \n",
    "# Display image \n",
    "image.show() \n",
    "image1.show() "
   ]
  },
  {
   "cell_type": "code",
   "execution_count": null,
   "id": "educated-sellers",
   "metadata": {},
   "outputs": [],
   "source": []
  }
 ],
 "metadata": {
  "kernelspec": {
   "display_name": "Python 3",
   "language": "python",
   "name": "python3"
  },
  "language_info": {
   "codemirror_mode": {
    "name": "ipython",
    "version": 3
   },
   "file_extension": ".py",
   "mimetype": "text/x-python",
   "name": "python",
   "nbconvert_exporter": "python",
   "pygments_lexer": "ipython3",
   "version": "3.8.7"
  }
 },
 "nbformat": 4,
 "nbformat_minor": 5
}
