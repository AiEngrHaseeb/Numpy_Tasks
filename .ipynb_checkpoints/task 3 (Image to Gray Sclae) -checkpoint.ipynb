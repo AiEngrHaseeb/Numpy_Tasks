{
 "cells": [
  {
   "cell_type": "code",
   "execution_count": 1,
   "metadata": {},
   "outputs": [],
   "source": [
    "from PIL import Image \n",
    "import numpy as np \n",
    "  \n",
    "# Load image \n",
    "image = Image.open('self.jpg') \n",
    "  \n",
    "# Convert image to array \n",
    "image_arr = np.array(image) \n",
    "image_arr = (image_arr[:,:,0]+image_arr[:,:,1]+image_arr[:,:,2])/3\n",
    "\n",
    "# Convert array to image \n",
    "image = Image.fromarray(image_arr) \n",
    "  \n",
    "# Display image \n",
    "image.show() "
   ]
  },
  {
   "cell_type": "code",
   "execution_count": null,
   "metadata": {},
   "outputs": [],
   "source": []
  }
 ],
 "metadata": {
  "kernelspec": {
   "display_name": "Python 3",
   "language": "python",
   "name": "python3"
  },
  "language_info": {
   "codemirror_mode": {
    "name": "ipython",
    "version": 3
   },
   "file_extension": ".py",
   "mimetype": "text/x-python",
   "name": "python",
   "nbconvert_exporter": "python",
   "pygments_lexer": "ipython3",
   "version": "3.8.3"
  }
 },
 "nbformat": 4,
 "nbformat_minor": 4
}
