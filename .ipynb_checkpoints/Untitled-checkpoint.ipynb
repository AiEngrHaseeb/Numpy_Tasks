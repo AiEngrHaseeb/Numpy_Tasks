{
 "cells": [
  {
   "cell_type": "code",
   "execution_count": 1,
   "metadata": {},
   "outputs": [],
   "source": [
    "def crop_center(img,cropx,cropy):\n",
    "    y,x = img.shape\n",
    "    startx = x//2-(cropx//2)\n",
    "    starty = y//2-(cropy//2)    \n",
    "    return img[starty:starty+cropy,startx:startx+cropx]"
   ]
  },
  {
   "cell_type": "code",
   "execution_count": 2,
   "metadata": {},
   "outputs": [
    {
     "ename": "NameError",
     "evalue": "name 'Image' is not defined",
     "output_type": "error",
     "traceback": [
      "\u001b[1;31m---------------------------------------------------------------------------\u001b[0m",
      "\u001b[1;31mNameError\u001b[0m                                 Traceback (most recent call last)",
      "\u001b[1;32m<ipython-input-2-cf696b4b0cd8>\u001b[0m in \u001b[0;36m<module>\u001b[1;34m\u001b[0m\n\u001b[1;32m----> 1\u001b[1;33m \u001b[0mimage\u001b[0m \u001b[1;33m=\u001b[0m \u001b[0mImage\u001b[0m\u001b[1;33m.\u001b[0m\u001b[0mopen\u001b[0m\u001b[1;33m(\u001b[0m\u001b[1;34m'self.jpg'\u001b[0m\u001b[1;33m)\u001b[0m\u001b[1;33m\u001b[0m\u001b[1;33m\u001b[0m\u001b[0m\n\u001b[0m\u001b[0;32m      2\u001b[0m \u001b[0mcrop_center\u001b[0m\u001b[1;33m(\u001b[0m\u001b[0mimage\u001b[0m\u001b[1;33m,\u001b[0m\u001b[1;36m500\u001b[0m\u001b[1;33m,\u001b[0m\u001b[1;36m500\u001b[0m\u001b[1;33m)\u001b[0m\u001b[1;33m\u001b[0m\u001b[1;33m\u001b[0m\u001b[0m\n",
      "\u001b[1;31mNameError\u001b[0m: name 'Image' is not defined"
     ]
    }
   ],
   "source": [
    "image = Image.open('self.jpg') \n",
    "crop_center(image,500,500)"
   ]
  },
  {
   "cell_type": "code",
   "execution_count": null,
   "metadata": {},
   "outputs": [],
   "source": [
    "pip install scipy\n"
   ]
  },
  {
   "cell_type": "code",
   "execution_count": null,
   "metadata": {},
   "outputs": [],
   "source": [
    "import numpy as np "
   ]
  },
  {
   "cell_type": "code",
   "execution_count": null,
   "metadata": {},
   "outputs": [],
   "source": [
    "import matplotlib.image as mpimg \n",
    "\n",
    "import scipy.ndimage as ndi \n",
    "\n",
    "img = mpimg.imread('self.jpg')\n",
    "\n",
    "cy, cx = ndi.center_of_mass(img)\n",
    "\n",
    "print(cy,cx)"
   ]
  },
  {
   "cell_type": "code",
   "execution_count": 18,
   "metadata": {},
   "outputs": [],
   "source": [
    "# Import required modules \n",
    "from PIL import Image \n",
    "import numpy as np \n",
    "  \n",
    "# Load image \n",
    "image = Image.open('1.jpg')\n",
    "image1 = Image.open('2.jpg') \n",
    "  \n",
    "# Convert image to array \n",
    "image_arr = np.array(image) \n",
    "image_arr1 = np.array(image1) \n",
    "\n",
    "# Crop image \n",
    "image_arr = image_arr[:500, :1000] \n",
    "image_arr1 = image_arr1[:500, :1000] \n",
    "h_img = np.hstack((image_arr,image_arr1))\n",
    "v_img = np.vstack((image_arr,image_arr1))\n",
    "# Convert array to image \n",
    "image = Image.fromarray(h_img) \n",
    "image1 = Image.fromarray(v_img) \n",
    "# Display image \n",
    "image.show() \n",
    "image1.show() "
   ]
  },
  {
   "cell_type": "code",
   "execution_count": null,
   "metadata": {},
   "outputs": [],
   "source": [
    "# Import required modules \n",
    "from PIL import Image \n",
    "import numpy as np \n",
    "  \n",
    "# Load image \n",
    "image = Image.open('2.jpg')\n",
    "  \n",
    "# Convert image to array \n",
    "image_arr = np.array(image) \n",
    "image_arr = np.array(image) \n",
    "\n",
    "# Crop image \n",
    "image_arr = image_arr[:500, :1000] \n",
    "\n",
    "# Convert array to image \n",
    "image = Image.fromarray(image_arr) \n",
    "  \n",
    "# Display image \n",
    "image.show() "
   ]
  },
  {
   "cell_type": "code",
   "execution_count": 14,
   "metadata": {},
   "outputs": [],
   "source": [
    "from PIL import Image \n",
    "import numpy as np \n",
    "  \n",
    "# Load image \n",
    "image = Image.open('self.jpg') \n",
    "  \n",
    "# Convert image to array \n",
    "image_arr = np.array(image) \n",
    "image_arr = (image_arr[:,:,0]+image_arr[:,:,1]+image_arr[:,:,2])/3\n",
    "# def rgb2gray(rgb):\n",
    "#     r, g, b = rgb[:,:,0], rgb[:,:,1], rgb[:,:,2]\n",
    "#     gray = 0.2989 * r + 0.5870 * g + 0.1140 * b\n",
    "#     return gray\n",
    "# image_arr = rgb2gray(image_arr)\n",
    "# Convert array to image \n",
    "image = Image.fromarray(image_arr) \n",
    "  \n",
    "# Display image \n",
    "image.show() "
   ]
  },
  {
   "cell_type": "code",
   "execution_count": null,
   "metadata": {},
   "outputs": [],
   "source": [
    "# Import required modules \n",
    "from PIL import Image \n",
    "import numpy as np \n",
    "  \n",
    "# Load image \n",
    "image = Image.open('self.jpg') \n",
    "  \n",
    "# Convert image to array \n",
    "image_arr = np.array(image) \n",
    "ysize, xsize, chan = image_arr.shape\n",
    "# Crop image\n",
    "xoff = (xsize - 500) // 2\n",
    "yoff = (ysize - 500) // 2\n",
    "image_arr = image_arr[yoff:-yoff,xoff:-xoff] \n",
    "\n",
    "# Convert array to image \n",
    "image = Image.fromarray(image_arr) \n",
    "  \n",
    "# Display image \n",
    "image.show() "
   ]
  },
  {
   "cell_type": "code",
   "execution_count": null,
   "metadata": {},
   "outputs": [],
   "source": [
    "def cropimread(crop, xcrop, ycrop, fn):\n",
    "    \"Function to crop center of an image file\"\n",
    "    img_pre= msc.imread(fn)\n",
    "    if crop:\n",
    "        ysize, xsize, chan = img_pre.shape\n",
    "        xoff = (xsize - xcrop) // 2\n",
    "        yoff = (ysize - ycrop) // 2\n",
    "        img= img_pre[yoff:-yoff,xoff:-xoff]\n",
    "    else:\n",
    "        img= img_pre\n",
    "    return img"
   ]
  },
  {
   "cell_type": "code",
   "execution_count": null,
   "metadata": {},
   "outputs": [],
   "source": [
    "cropimread(2500,500,500,image)"
   ]
  },
  {
   "cell_type": "code",
   "execution_count": null,
   "metadata": {},
   "outputs": [],
   "source": [
    " def crop_center(image, cropx, cropy):\n",
    "        _, y, x = image.sh\n",
    "        startx = x // 2 - (cropx // 2)\n",
    "        starty = y // 2 - (cropy // 2)\n",
    "        return img[:, starty:starty + cropy, startx:startx + cropx]\n"
   ]
  },
  {
   "cell_type": "code",
   "execution_count": null,
   "metadata": {},
   "outputs": [],
   "source": [
    "image = Image.open('self.jpg') \n",
    "crop_center(image,500,500)"
   ]
  },
  {
   "cell_type": "code",
   "execution_count": null,
   "metadata": {},
   "outputs": [],
   "source": [
    "pip install opencv-python"
   ]
  },
  {
   "cell_type": "code",
   "execution_count": 3,
   "metadata": {},
   "outputs": [],
   "source": [
    "import cv2\n",
    "import numpy as np\n",
    "\n",
    "image= cv2.imread('1.jpg')\n",
    "\n",
    "cropped= image[:1000, :500]\n",
    "\n",
    "cv2.imshow('Cropped Image', cropped)"
   ]
  },
  {
   "cell_type": "code",
   "execution_count": 18,
   "metadata": {},
   "outputs": [],
   "source": [
    "# Assuming the image has channels as the last dimension.\n",
    "# filter.shape -> (kernel_size, kernel_size, channels)\n",
    "# image.shape -> (width, height, channels)\n",
    "def convolve(image, filter, padding = (1, 1)):\n",
    "    # For this to work neatly, filter and image should have the same number of channels\n",
    "    # Alternatively, filter could have just 1 channel or 2 dimensions\n",
    "    \n",
    "    if(image.ndim == 2):\n",
    "        image = np.expand_dims(image, axis=-1) # Convert 2D grayscale images to 3D\n",
    "    if(filter.ndim == 2):\n",
    "        filter = np.repeat(np.expand_dims(filter, axis=-1), image.shape[-1], axis=-1) # Same with filters\n",
    "    if(filter.shape[-1] == 1):\n",
    "        filter = np.repeat(filter, image.shape[-1], axis=-1) # Give filter the same channel count as the image\n",
    "    \n",
    "    #print(filter.shape, image.shape)\n",
    "    assert image.shape[-1] == filter.shape[-1]\n",
    "    size_x, size_y = filter.shape[:2]\n",
    "    width, height = image.shape[:2]\n",
    "    \n",
    "    output_array = np.zeros(((width - size_x + 2*padding[0]) + 1, \n",
    "                             (height - size_y + 2*padding[1]) + 1,\n",
    "                             image.shape[-1])) # Convolution Output: [(W−K+2P)/S]+1\n",
    "    \n",
    "    padded_image = np.pad(image, [\n",
    "        (padding[0], padding[0]),\n",
    "        (padding[1], padding[1]),\n",
    "        (0, 0)\n",
    "    ])\n",
    "    \n",
    "    for x in range(padded_image.shape[0] - size_x + 1): # -size_x + 1 is to keep the window within the bounds of the image\n",
    "        for y in range(padded_image.shape[1] - size_y + 1):\n",
    "\n",
    "            # Creates the window with the same size as the filter\n",
    "            window = padded_image[x:x + size_x, y:y + size_y]\n",
    "\n",
    "            # Sums over the product of the filter and the window\n",
    "            output_values = np.sum(filter * window, axis=(0, 1)) \n",
    "\n",
    "            # Places the calculated value into the output_array\n",
    "            output_array[x, y] = output_values\n",
    "            \n",
    "    return output_array"
   ]
  },
  {
   "cell_type": "code",
   "execution_count": 21,
   "metadata": {},
   "outputs": [],
   "source": [
    "#Filter 1 (Verticles Lines)\n",
    "filter = np.array([\n",
    "    [-1, 0, 1],\n",
    "    [-1, 0, 1],\n",
    "    [-1, 0, 1]\n",
    "], dtype=np.float32)/9.0 # Box Filter\n",
    "\n",
    "image = Image.open('self.jpg')\n",
    "image_arr = np.array(image)/255.0\n",
    "\n",
    "convolved_arr = convolve(image_arr, filter, padding=(1, 1))\n",
    "convolved = Image.fromarray(np.uint8(255 * convolved_arr), 'RGB') # Convolved Image\n",
    "convolved.show()"
   ]
  },
  {
   "cell_type": "code",
   "execution_count": 22,
   "metadata": {},
   "outputs": [],
   "source": [
    "#Filter 2 (Blur)\n",
    "filter = np.array([\n",
    "    [1, 1, 1],\n",
    "    [1, 1, 1],\n",
    "    [1, 1, 1]\n",
    "], dtype=np.float32)/9.0 # Box Filter\n",
    "\n",
    "image = Image.open('self.jpg')\n",
    "image_arr = np.array(image)/255.0\n",
    "\n",
    "convolved_arr = convolve(image_arr, filter, padding=(1, 1))\n",
    "convolved = Image.fromarray(np.uint8(255 * convolved_arr), 'RGB') # Convolved Image\n",
    "convolved.show()"
   ]
  },
  {
   "cell_type": "code",
   "execution_count": null,
   "metadata": {},
   "outputs": [],
   "source": []
  },
  {
   "cell_type": "code",
   "execution_count": null,
   "metadata": {},
   "outputs": [],
   "source": []
  }
 ],
 "metadata": {
  "kernelspec": {
   "display_name": "Python 3",
   "language": "python",
   "name": "python3"
  },
  "language_info": {
   "codemirror_mode": {
    "name": "ipython",
    "version": 3
   },
   "file_extension": ".py",
   "mimetype": "text/x-python",
   "name": "python",
   "nbconvert_exporter": "python",
   "pygments_lexer": "ipython3",
   "version": "3.8.3"
  }
 },
 "nbformat": 4,
 "nbformat_minor": 5
}
