{
 "cells": [
  {
   "cell_type": "code",
   "execution_count": 1,
   "metadata": {},
   "outputs": [],
   "source": [
    "def crop_center(img,cropx,cropy):\n",
    "    y,x = img.shape\n",
    "    startx = x//2-(cropx//2)\n",
    "    starty = y//2-(cropy//2)    \n",
    "    return img[starty:starty+cropy,startx:startx+cropx]"
   ]
  },
  {
   "cell_type": "code",
   "execution_count": 2,
   "metadata": {},
   "outputs": [
    {
     "ename": "NameError",
     "evalue": "name 'Image' is not defined",
     "output_type": "error",
     "traceback": [
      "\u001b[1;31m---------------------------------------------------------------------------\u001b[0m",
      "\u001b[1;31mNameError\u001b[0m                                 Traceback (most recent call last)",
      "\u001b[1;32m<ipython-input-2-cf696b4b0cd8>\u001b[0m in \u001b[0;36m<module>\u001b[1;34m\u001b[0m\n\u001b[1;32m----> 1\u001b[1;33m \u001b[0mimage\u001b[0m \u001b[1;33m=\u001b[0m \u001b[0mImage\u001b[0m\u001b[1;33m.\u001b[0m\u001b[0mopen\u001b[0m\u001b[1;33m(\u001b[0m\u001b[1;34m'self.jpg'\u001b[0m\u001b[1;33m)\u001b[0m\u001b[1;33m\u001b[0m\u001b[1;33m\u001b[0m\u001b[0m\n\u001b[0m\u001b[0;32m      2\u001b[0m \u001b[0mcrop_center\u001b[0m\u001b[1;33m(\u001b[0m\u001b[0mimage\u001b[0m\u001b[1;33m,\u001b[0m\u001b[1;36m500\u001b[0m\u001b[1;33m,\u001b[0m\u001b[1;36m500\u001b[0m\u001b[1;33m)\u001b[0m\u001b[1;33m\u001b[0m\u001b[1;33m\u001b[0m\u001b[0m\n",
      "\u001b[1;31mNameError\u001b[0m: name 'Image' is not defined"
     ]
    }
   ],
   "source": [
    "image = Image.open('self.jpg') \n",
    "crop_center(image,500,500)"
   ]
  },
  {
   "cell_type": "code",
   "execution_count": null,
   "metadata": {},
   "outputs": [],
   "source": [
    "pip install scipy\n"
   ]
  },
  {
   "cell_type": "code",
   "execution_count": null,
   "metadata": {},
   "outputs": [],
   "source": [
    "import numpy as np "
   ]
  },
  {
   "cell_type": "code",
   "execution_count": null,
   "metadata": {},
   "outputs": [],
   "source": [
    "import matplotlib.image as mpimg \n",
    "\n",
    "import scipy.ndimage as ndi \n",
    "\n",
    "img = mpimg.imread('self.jpg')\n",
    "\n",
    "cy, cx = ndi.center_of_mass(img)\n",
    "\n",
    "print(cy,cx)"
   ]
  },
  {
   "cell_type": "code",
   "execution_count": 18,
   "metadata": {},
   "outputs": [],
   "source": [
    "# Import required modules \n",
    "from PIL import Image \n",
    "import numpy as np \n",
    "  \n",
    "# Load image \n",
    "image = Image.open('1.jpg')\n",
    "image1 = Image.open('2.jpg') \n",
    "  \n",
    "# Convert image to array \n",
    "image_arr = np.array(image) \n",
    "image_arr1 = np.array(image1) \n",
    "\n",
    "# Crop image \n",
    "image_arr = image_arr[:500, :1000] \n",
    "image_arr1 = image_arr1[:500, :1000] \n",
    "h_img = np.hstack((image_arr,image_arr1))\n",
    "v_img = np.vstack((image_arr,image_arr1))\n",
    "# Convert array to image \n",
    "image = Image.fromarray(h_img) \n",
    "image1 = Image.fromarray(v_img) \n",
    "# Display image \n",
    "image.show() \n",
    "image1.show() "
   ]
  },
  {
   "cell_type": "code",
   "execution_count": null,
   "metadata": {},
   "outputs": [],
   "source": [
    "# Import required modules \n",
    "from PIL import Image \n",
    "import numpy as np \n",
    "  \n",
    "# Load image \n",
    "image = Image.open('2.jpg')\n",
    "  \n",
    "# Convert image to array \n",
    "image_arr = np.array(image) \n",
    "image_arr = np.array(image) \n",
    "\n",
    "# Crop image \n",
    "image_arr = image_arr[:500, :1000] \n",
    "\n",
    "# Convert array to image \n",
    "image = Image.fromarray(image_arr) \n",
    "  \n",
    "# Display image \n",
    "image.show() "
   ]
  },
  {
   "cell_type": "code",
   "execution_count": 14,
   "metadata": {},
   "outputs": [],
   "source": [
    "from PIL import Image \n",
    "import numpy as np \n",
    "  \n",
    "# Load image \n",
    "image = Image.open('self.jpg') \n",
    "  \n",
    "# Convert image to array \n",
    "image_arr = np.array(image) \n",
    "image_arr = (image_arr[:,:,0]+image_arr[:,:,1]+image_arr[:,:,2])/3\n",
    "# def rgb2gray(rgb):\n",
    "#     r, g, b = rgb[:,:,0], rgb[:,:,1], rgb[:,:,2]\n",
    "#     gray = 0.2989 * r + 0.5870 * g + 0.1140 * b\n",
    "#     return gray\n",
    "# image_arr = rgb2gray(image_arr)\n",
    "# Convert array to image \n",
    "image = Image.fromarray(image_arr) \n",
    "  \n",
    "# Display image \n",
    "image.show() "
   ]
  },
  {
   "cell_type": "code",
   "execution_count": null,
   "metadata": {},
   "outputs": [],
   "source": [
    "# Import required modules \n",
    "from PIL import Image \n",
    "import numpy as np \n",
    "  \n",
    "# Load image \n",
    "image = Image.open('self.jpg') \n",
    "  \n",
    "# Convert image to array \n",
    "image_arr = np.array(image) \n",
    "ysize, xsize, chan = image_arr.shape\n",
    "# Crop image\n",
    "xoff = (xsize - 500) // 2\n",
    "yoff = (ysize - 500) // 2\n",
    "image_arr = image_arr[yoff:-yoff,xoff:-xoff] \n",
    "\n",
    "# Convert array to image \n",
    "image = Image.fromarray(image_arr) \n",
    "  \n",
    "# Display image \n",
    "image.show() "
   ]
  },
  {
   "cell_type": "code",
   "execution_count": null,
   "metadata": {},
   "outputs": [],
   "source": [
    "def cropimread(crop, xcrop, ycrop, fn):\n",
    "    \"Function to crop center of an image file\"\n",
    "    img_pre= msc.imread(fn)\n",
    "    if crop:\n",
    "        ysize, xsize, chan = img_pre.shape\n",
    "        xoff = (xsize - xcrop) // 2\n",
    "        yoff = (ysize - ycrop) // 2\n",
    "        img= img_pre[yoff:-yoff,xoff:-xoff]\n",
    "    else:\n",
    "        img= img_pre\n",
    "    return img"
   ]
  },
  {
   "cell_type": "code",
   "execution_count": null,
   "metadata": {},
   "outputs": [],
   "source": [
    "cropimread(2500,500,500,image)"
   ]
  },
  {
   "cell_type": "code",
   "execution_count": null,
   "metadata": {},
   "outputs": [],
   "source": [
    " def crop_center(image, cropx, cropy):\n",
    "        _, y, x = image.sh\n",
    "        startx = x // 2 - (cropx // 2)\n",
    "        starty = y // 2 - (cropy // 2)\n",
    "        return img[:, starty:starty + cropy, startx:startx + cropx]\n"
   ]
  },
  {
   "cell_type": "code",
   "execution_count": null,
   "metadata": {},
   "outputs": [],
   "source": [
    "image = Image.open('self.jpg') \n",
    "crop_center(image,500,500)"
   ]
  },
  {
   "cell_type": "code",
   "execution_count": null,
   "metadata": {},
   "outputs": [],
   "source": [
    "pip install opencv-python"
   ]
  },
  {
   "cell_type": "code",
   "execution_count": 3,
   "metadata": {},
   "outputs": [],
   "source": [
    "import cv2\n",
    "import numpy as np\n",
    "\n",
    "image= cv2.imread('1.jpg')\n",
    "\n",
    "cropped= image[:1000, :500]\n",
    "\n",
    "cv2.imshow('Cropped Image', cropped)"
   ]
  },
  {
   "cell_type": "code",
   "execution_count": null,
   "metadata": {},
   "outputs": [],
   "source": []
  }
 ],
 "metadata": {
  "kernelspec": {
   "display_name": "Python 3",
   "language": "python",
   "name": "python3"
  },
  "language_info": {
   "codemirror_mode": {
    "name": "ipython",
    "version": 3
   },
   "file_extension": ".py",
   "mimetype": "text/x-python",
   "name": "python",
   "nbconvert_exporter": "python",
   "pygments_lexer": "ipython3",
   "version": "3.8.3"
  }
 },
 "nbformat": 4,
 "nbformat_minor": 5
}
